{
 "cells": [
  {
   "cell_type": "markdown",
   "id": "019f7095",
   "metadata": {},
   "source": [
    "## Will Paz"
   ]
  },
  {
   "cell_type": "code",
   "execution_count": 1,
   "id": "38828eec",
   "metadata": {},
   "outputs": [],
   "source": [
    "import numpy as np\n",
    "import math as mth"
   ]
  },
  {
   "cell_type": "markdown",
   "id": "97543899",
   "metadata": {},
   "source": [
    "### Part 1: \n",
    "\n",
    "Write out by hand  the 5x5 stochastic matrix describing the random walk. Using this matrix as a guide make a function rw_matrix(n,p) that outputs the nxn stochastic matrix describing the random walk."
   ]
  },
  {
   "cell_type": "code",
   "execution_count": 2,
   "id": "f9148f16",
   "metadata": {},
   "outputs": [],
   "source": [
    "def rw_matrix(n,p):\n",
    "    \"\"\"\n",
    "    Generates a the nxn stochastic matrix describing the random walk\n",
    "    Inputs: n, the size of the square matrix, and p, the desired probability\n",
    "    Output: nxn Stochastic matrix\n",
    "    \"\"\"\n",
    "    S = np.zeros((n,n))\n",
    "    \n",
    "    for i in range(n):\n",
    "        S[i,i] = p  \n",
    "        \n",
    "    for i in range(n-1):\n",
    "        S[i+1,i] = (1-p)/2\n",
    "        S[i,i+1] = (1-p)/2\n",
    "        \n",
    "    S[0,n-1] = (1-p)/2\n",
    "    S[n-1,0] = (1-p)/2\n",
    "    \n",
    "    lambda2 = p+(1-p)*mth.cos(2*mth.pi/n)\n",
    "            \n",
    "    return S, lambda2"
   ]
  },
  {
   "cell_type": "code",
   "execution_count": 3,
   "id": "158e8541",
   "metadata": {},
   "outputs": [],
   "source": [
    "A,L = rw_matrix(5,(1/3))"
   ]
  },
  {
   "cell_type": "code",
   "execution_count": 4,
   "id": "62792f4f",
   "metadata": {},
   "outputs": [],
   "source": [
    "E,V = np.linalg.eigh(A)"
   ]
  },
  {
   "cell_type": "code",
   "execution_count": 5,
   "id": "1b607dba",
   "metadata": {},
   "outputs": [
    {
     "data": {
      "text/plain": [
       "0.539344662916632"
      ]
     },
     "execution_count": 5,
     "metadata": {},
     "output_type": "execute_result"
    }
   ],
   "source": [
    "E[3]"
   ]
  },
  {
   "cell_type": "code",
   "execution_count": 6,
   "id": "90e7c753",
   "metadata": {},
   "outputs": [
    {
     "data": {
      "text/plain": [
       "0.5393446629166316"
      ]
     },
     "execution_count": 6,
     "metadata": {},
     "output_type": "execute_result"
    }
   ],
   "source": [
    "L"
   ]
  },
  {
   "cell_type": "markdown",
   "id": "9c9cdaff",
   "metadata": {},
   "source": [
    "### Checking the 2nd Eigenvalues\n",
    "\n",
    "With n = 5 and p = 1/3, and using rw_matrix(5,1/3) we can get the results below.\n",
    "\n",
    "Using np.linalg.eigh(A), the second eigenvalue = 0.539344662916632\n",
    "\n",
    "Using a discrete Fourier transform, the value = 0.5393446629166316\n",
    "\n",
    "So, yes, they are equal (enough)."
   ]
  },
  {
   "cell_type": "markdown",
   "id": "b0550d4d",
   "metadata": {},
   "source": [
    "### Random Walks with n = 11 and p = 0.15 (walker starts at node 1/index 0)"
   ]
  },
  {
   "cell_type": "code",
   "execution_count": 7,
   "id": "bd23042c",
   "metadata": {},
   "outputs": [],
   "source": [
    "B,L2 = rw_matrix(11,.15)"
   ]
  },
  {
   "cell_type": "markdown",
   "id": "bb6638e6",
   "metadata": {},
   "source": [
    "#### 1. What is the probability that the walker is at node 6 after 3 steps?"
   ]
  },
  {
   "cell_type": "code",
   "execution_count": 8,
   "id": "46e93928",
   "metadata": {},
   "outputs": [],
   "source": [
    "cubed = np.linalg.matrix_power(B, 3)"
   ]
  },
  {
   "cell_type": "code",
   "execution_count": 9,
   "id": "42ebe4b1",
   "metadata": {},
   "outputs": [
    {
     "data": {
      "text/plain": [
       "0.0"
      ]
     },
     "execution_count": 9,
     "metadata": {},
     "output_type": "execute_result"
    }
   ],
   "source": [
    "cubed[0,5]"
   ]
  },
  {
   "cell_type": "markdown",
   "id": "f71dcfd2",
   "metadata": {},
   "source": [
    "Answer: 0.0"
   ]
  },
  {
   "cell_type": "markdown",
   "id": "ee03b14f",
   "metadata": {},
   "source": [
    "#### 2. What is the probability that the walker is at node 2 after 3 steps?"
   ]
  },
  {
   "cell_type": "code",
   "execution_count": 10,
   "id": "f1ce2ace",
   "metadata": {},
   "outputs": [
    {
     "data": {
      "text/plain": [
       "0.258984375"
      ]
     },
     "execution_count": 10,
     "metadata": {},
     "output_type": "execute_result"
    }
   ],
   "source": [
    "cubed[0,1]"
   ]
  },
  {
   "cell_type": "markdown",
   "id": "078da85b",
   "metadata": {},
   "source": [
    "Answer: 0.258984375"
   ]
  },
  {
   "cell_type": "markdown",
   "id": "518ffd1c",
   "metadata": {},
   "source": [
    "#### 3.  What is the probability that the walker is at node 6 after 10 steps?"
   ]
  },
  {
   "cell_type": "code",
   "execution_count": 11,
   "id": "c98c4160",
   "metadata": {},
   "outputs": [],
   "source": [
    "tened = np.linalg.matrix_power(B, 10)"
   ]
  },
  {
   "cell_type": "code",
   "execution_count": 12,
   "id": "29efd9f7",
   "metadata": {},
   "outputs": [
    {
     "data": {
      "text/plain": [
       "0.04969394382680024"
      ]
     },
     "execution_count": 12,
     "metadata": {},
     "output_type": "execute_result"
    }
   ],
   "source": [
    "tened[0,5]"
   ]
  },
  {
   "cell_type": "markdown",
   "id": "bd7f745e",
   "metadata": {},
   "source": [
    "Answer: 0.04969394382680024"
   ]
  },
  {
   "cell_type": "markdown",
   "id": "b1b388c1",
   "metadata": {},
   "source": [
    "#### 4.  What is the probability that the walker is at node 2 after 10 steps?"
   ]
  },
  {
   "cell_type": "code",
   "execution_count": 13,
   "id": "36bf75f5",
   "metadata": {},
   "outputs": [
    {
     "data": {
      "text/plain": [
       "0.12389366636436545"
      ]
     },
     "execution_count": 13,
     "metadata": {},
     "output_type": "execute_result"
    }
   ],
   "source": [
    "tened[0,1]"
   ]
  },
  {
   "cell_type": "markdown",
   "id": "4c5e8a51",
   "metadata": {},
   "source": [
    "Answer: 0.12389366636436545"
   ]
  },
  {
   "cell_type": "markdown",
   "id": "36ad7e3e",
   "metadata": {},
   "source": [
    "#### 5.  What is the probability that the walker is at node 6 after 50 steps?"
   ]
  },
  {
   "cell_type": "code",
   "execution_count": 14,
   "id": "fd166b7d",
   "metadata": {},
   "outputs": [],
   "source": [
    "fiftied = np.linalg.matrix_power(B, 50)"
   ]
  },
  {
   "cell_type": "code",
   "execution_count": 15,
   "id": "46233827",
   "metadata": {},
   "outputs": [
    {
     "data": {
      "text/plain": [
       "0.09078488881507354"
      ]
     },
     "execution_count": 15,
     "metadata": {},
     "output_type": "execute_result"
    }
   ],
   "source": [
    "fiftied[0,5]"
   ]
  },
  {
   "cell_type": "markdown",
   "id": "73fcd37f",
   "metadata": {},
   "source": [
    "Answer: 0.09078488881507354"
   ]
  },
  {
   "cell_type": "markdown",
   "id": "6f5e378c",
   "metadata": {},
   "source": [
    "#### 6.  What is the probability that the walker is at node 2 after 50 steps?"
   ]
  },
  {
   "cell_type": "code",
   "execution_count": 16,
   "id": "b954b5df",
   "metadata": {},
   "outputs": [
    {
     "data": {
      "text/plain": [
       "0.09101798714914272"
      ]
     },
     "execution_count": 16,
     "metadata": {},
     "output_type": "execute_result"
    }
   ],
   "source": [
    "fiftied[0,1]"
   ]
  },
  {
   "cell_type": "markdown",
   "id": "0943bc5d",
   "metadata": {},
   "source": [
    "Answer: 0.09101798714914272"
   ]
  },
  {
   "cell_type": "markdown",
   "id": "774662d1",
   "metadata": {},
   "source": [
    "### Part 2:\n",
    "\n",
    "Make a function findk(n,p,error) and answer some questions."
   ]
  },
  {
   "cell_type": "code",
   "execution_count": 17,
   "id": "cbcb67d5",
   "metadata": {},
   "outputs": [],
   "source": [
    "def findk(n,p,error):\n",
    "    \"\"\"\n",
    "    Determines the exponent k that will most closely satisfy our desired n (nodes), p (probability), and error.\n",
    "    \n",
    "    Recall:\n",
    "            max{||(S**k * x) - q|| : x is a probabilty vector} =< sqrt((n - 1) * |lambda2 * k|)\n",
    "            q = (1/n)*np.ones((n,1)), 0 < p < 1\n",
    "            S,L = rw_matrix(n,p) ## S is the matrix, L is the lambda2\n",
    "    \n",
    "    Inputs: Our desired n (nodes), p (probability), and error\n",
    "    Output: an integer k satisfying:\n",
    "            max{||(S**k * x) - q|| : x is a probabilty vector}\n",
    "    \"\"\"\n",
    "    q = (1/n)*np.ones((n,1))\n",
    "    S,L = rw_matrix(n,p)\n",
    "    \n",
    "    k = 1 \n",
    "    while True:\n",
    "        if np.sqrt((n - 1) * (np.abs(L)**k)) < error:\n",
    "            return k  \n",
    "        k = k + 1  "
   ]
  },
  {
   "cell_type": "markdown",
   "id": "405026ec",
   "metadata": {},
   "source": [
    "#### 7. For what value of k is within 0.01 of (1/15)*np.ones((15,1))?"
   ]
  },
  {
   "cell_type": "code",
   "execution_count": 18,
   "id": "797c9cfc",
   "metadata": {},
   "outputs": [
    {
     "data": {
      "text/plain": [
       "177"
      ]
     },
     "execution_count": 18,
     "metadata": {},
     "output_type": "execute_result"
    }
   ],
   "source": [
    "findk(15,.25,.01)"
   ]
  },
  {
   "cell_type": "markdown",
   "id": "648fcd78",
   "metadata": {},
   "source": [
    "Answer: k = 177"
   ]
  },
  {
   "cell_type": "markdown",
   "id": "66fdeb94",
   "metadata": {},
   "source": [
    "#### 8. For what value of k is within 0.001 of (1/15)*np.ones((15,1))?"
   ]
  },
  {
   "cell_type": "code",
   "execution_count": 19,
   "id": "e3b8f0de",
   "metadata": {},
   "outputs": [
    {
     "data": {
      "text/plain": [
       "246"
      ]
     },
     "execution_count": 19,
     "metadata": {},
     "output_type": "execute_result"
    }
   ],
   "source": [
    "findk(15,.25,.001)"
   ]
  },
  {
   "cell_type": "markdown",
   "id": "7b3de0fd",
   "metadata": {},
   "source": [
    "Answer: k = 246"
   ]
  },
  {
   "cell_type": "markdown",
   "id": "4e9fe072",
   "metadata": {},
   "source": [
    "#### 9. For what value of k is within 0.01 of (1/150)*np.ones((150,1))?"
   ]
  },
  {
   "cell_type": "code",
   "execution_count": 20,
   "id": "892882fd",
   "metadata": {},
   "outputs": [
    {
     "data": {
      "text/plain": [
       "21600"
      ]
     },
     "execution_count": 20,
     "metadata": {},
     "output_type": "execute_result"
    }
   ],
   "source": [
    "findk(150,.25,.01)"
   ]
  },
  {
   "cell_type": "markdown",
   "id": "585d6ad0",
   "metadata": {},
   "source": [
    "Answer: k = 21600"
   ]
  },
  {
   "cell_type": "markdown",
   "id": "61da9823",
   "metadata": {},
   "source": [
    "#### 10. For what value of k is within 0.001 of (1/150)*np.ones((150,1))?"
   ]
  },
  {
   "cell_type": "code",
   "execution_count": 21,
   "id": "49f5cf96",
   "metadata": {},
   "outputs": [
    {
     "data": {
      "text/plain": [
       "28597"
      ]
     },
     "execution_count": 21,
     "metadata": {},
     "output_type": "execute_result"
    }
   ],
   "source": [
    "findk(150,.25,.001)"
   ]
  },
  {
   "cell_type": "markdown",
   "id": "f95c1b2b",
   "metadata": {},
   "source": [
    "Answer: k = 28597"
   ]
  },
  {
   "cell_type": "markdown",
   "id": "36a5ee8a",
   "metadata": {},
   "source": [
    "#### 11. Check your answers with the probability vector x = [1,0,...,0].T in 7-10 above (no markdown cell needed for this one)"
   ]
  },
  {
   "cell_type": "code",
   "execution_count": 22,
   "id": "ac0eeeee",
   "metadata": {},
   "outputs": [],
   "source": [
    "def check_k(n,p,error,k):\n",
    "    \"\"\"\n",
    "    Ensures the k found in findk works in ||(S**k * x) - q||, when x = [1,0,...,0].T by returning a Boolean value\n",
    "    Inputs: Our desired n (nodes), p (probability), error, and k guess\n",
    "    Output: A boolean value\n",
    "    \"\"\"\n",
    "    q = (1/n)*np.ones((n,1))\n",
    "    S,L = rw_matrix(n,p)\n",
    "    \n",
    "    x = np.zeros((n,1))\n",
    "    x[0] = 1\n",
    "    \n",
    "    result = np.dot(np.linalg.matrix_power(S, k), x) - q\n",
    "    new_result = np.linalg.norm(result)\n",
    "    return print(new_result < error)"
   ]
  },
  {
   "cell_type": "code",
   "execution_count": 23,
   "id": "69263fae",
   "metadata": {},
   "outputs": [
    {
     "name": "stdout",
     "output_type": "stream",
     "text": [
      "True\n",
      "True\n",
      "True\n",
      "True\n"
     ]
    }
   ],
   "source": [
    "check_k(15,.25,.01,177)\n",
    "check_k(15,.25,.001,246)\n",
    "check_k(150,.25,.01,21600)\n",
    "check_k(150,.25,.001,28597)"
   ]
  },
  {
   "cell_type": "code",
   "execution_count": null,
   "id": "5ee8b059",
   "metadata": {},
   "outputs": [],
   "source": []
  }
 ],
 "metadata": {
  "kernelspec": {
   "display_name": "Python 3 (ipykernel)",
   "language": "python",
   "name": "python3"
  },
  "language_info": {
   "codemirror_mode": {
    "name": "ipython",
    "version": 3
   },
   "file_extension": ".py",
   "mimetype": "text/x-python",
   "name": "python",
   "nbconvert_exporter": "python",
   "pygments_lexer": "ipython3",
   "version": "3.11.4"
  }
 },
 "nbformat": 4,
 "nbformat_minor": 5
}
